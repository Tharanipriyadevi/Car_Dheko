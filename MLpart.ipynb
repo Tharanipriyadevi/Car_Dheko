{
 "cells": [
  {
   "cell_type": "code",
   "execution_count": 1,
   "id": "3d3141e2-bf35-43aa-be83-ea215ba10a08",
   "metadata": {},
   "outputs": [],
   "source": [
    "import pandas as pd\n",
    "import numpy as np\n",
    "import matplotlib.pyplot as plt\n",
    "import seaborn as sns\n",
    "from sklearn.model_selection import train_test_split, GridSearchCV\n",
    "from sklearn.linear_model import LinearRegression\n",
    "from sklearn.tree import DecisionTreeRegressor\n",
    "from sklearn.ensemble import RandomForestRegressor, GradientBoostingRegressor\n",
    "from sklearn.metrics import mean_absolute_error, mean_squared_error, r2_score\n",
    "import pickle\n",
    "\n",
    "# Load the data\n",
    "df = pd.read_csv(\"D:\\\\Project\\\\Car_Dheko\\\\op\\\\final_cleaned_car_dheko.csv\", low_memory=False)"
   ]
  },
  {
   "cell_type": "code",
   "execution_count": 3,
   "id": "d62f2bc0-13a4-4542-9176-5cc7ed243670",
   "metadata": {},
   "outputs": [
    {
     "data": {
      "text/plain": [
       "Index(['ft', 'bt', 'km', 'transmission', 'ownerNo', 'model',\n",
       "       'centralVariantId', 'Insurance Validity', 'Seats',\n",
       "       'Engine Displacement', 'Mileage', 'Max Power', 'Torque', 'Wheel Size',\n",
       "       'Color', 'Engine Type', 'Max Power_rpm', 'Max Torque', 'No of Cylinder',\n",
       "       'Value Configuration', 'Fuel Supply System', 'Length', 'Width',\n",
       "       'Height', 'Wheel Base', 'Front Tread', 'Kerb Weight', 'Gross Weight',\n",
       "       'Gear Box', 'Drive Type', 'Steering Type', 'Turning Radius',\n",
       "       'Front Brake Type', 'Top Speed', 'Acceleration', 'Tyre Type',\n",
       "       'Alloy Wheel Size', 'Cargo Volume', 'City', 'Car_age', 'price'],\n",
       "      dtype='object')"
      ]
     },
     "execution_count": 3,
     "metadata": {},
     "output_type": "execute_result"
    }
   ],
   "source": [
    "df.columns"
   ]
  },
  {
   "cell_type": "code",
   "execution_count": 3,
   "id": "e3fd0eaa-a212-4ace-a750-09cb683aaaec",
   "metadata": {},
   "outputs": [],
   "source": [
    "#Select required columns\n",
    "required_columns = ['ft', 'bt', 'km', 'transmission', 'model', 'Insurance Validity', 'Seats', \n",
    "                    'Engine Displacement', 'Mileage', 'Max Power', 'Torque', 'No of Cylinder', 'Length', 'Width', \n",
    "                    'Height', 'Kerb Weight','Drive Type', 'Cargo Volume', 'City', 'Car_age', 'price']\n",
    "\n",
    "df = df[required_columns]\n",
    "\n",
    "\n",
    "# Replace inf with NaN and fill NaNs with mean\n",
    "df.replace([np.inf, -np.inf], np.nan, inplace=True)\n",
    "df.fillna(df.mean(), inplace=True)"
   ]
  },
  {
   "cell_type": "code",
   "execution_count": 5,
   "id": "8253df2c-1820-46ab-9102-c6ae8739fb6c",
   "metadata": {},
   "outputs": [
    {
     "name": "stdout",
     "output_type": "stream",
     "text": [
      "X_train shape: (5549, 20)\n",
      "y_train shape: (5549,)\n",
      "X_test shape: (1388, 20)\n",
      "y_test shape: (1388,)\n"
     ]
    }
   ],
   "source": [
    "# Separate features and target variable\n",
    "X = df.drop(['price'], axis=1)  # Features\n",
    "y = df['price']  # Target variable\n",
    "# Train-Test Split\n",
    "X_train, X_test, y_train, y_test = train_test_split(X, y, test_size=0.2, random_state=42)\n",
    "\n",
    "# Print shapes of the splits\n",
    "print(f\"X_train shape: {X_train.shape}\")\n",
    "print(f\"y_train shape: {y_train.shape}\")\n",
    "print(f\"X_test shape: {X_test.shape}\")\n",
    "print(f\"y_test shape: {y_test.shape}\")"
   ]
  },
  {
   "cell_type": "code",
   "execution_count": 7,
   "id": "ca8031f7-e2b1-4fc4-b5cf-a3323582158f",
   "metadata": {},
   "outputs": [],
   "source": [
    "# 1. Linear Regression - Model Fit and Predict\n",
    "lin_model = LinearRegression()\n",
    "lin_model.fit(X_train, y_train)\n",
    "y_pred_lin = lin_model.predict(X_test)"
   ]
  },
  {
   "cell_type": "code",
   "execution_count": 9,
   "id": "1be9448e-7721-4521-a1b4-4353c10c4c7f",
   "metadata": {},
   "outputs": [
    {
     "name": "stdout",
     "output_type": "stream",
     "text": [
      "Fitting 3 folds for each of 108 candidates, totalling 324 fits\n"
     ]
    }
   ],
   "source": [
    "# 2. Random Forest Regressor - GridSearchCV and Model Fit/Predict\n",
    "rf_model = RandomForestRegressor(random_state=42)\n",
    "rf_param_grid = {\n",
    "    'n_estimators': [50, 100, 200],\n",
    "    'max_depth': [10, 20, 30, None],\n",
    "    'min_samples_split': [2, 5, 10],\n",
    "    'min_samples_leaf': [1, 2, 4]\n",
    "}\n",
    "rf_grid_search = GridSearchCV(estimator=rf_model, param_grid=rf_param_grid, cv=3, n_jobs=-1, verbose=2, scoring='r2')\n",
    "rf_grid_search.fit(X_train, y_train)\n",
    "best_rf_model = rf_grid_search.best_estimator_\n",
    "y_pred_rf = best_rf_model.predict(X_test)"
   ]
  },
  {
   "cell_type": "code",
   "execution_count": 11,
   "id": "555c69eb-5228-4f1f-8c76-1ec84ed16ee3",
   "metadata": {},
   "outputs": [
    {
     "name": "stdout",
     "output_type": "stream",
     "text": [
      "Fitting 3 folds for each of 18 candidates, totalling 54 fits\n"
     ]
    }
   ],
   "source": [
    "# 3. Gradient Boosting Regressor - GridSearchCV and Model Fit/Predict\n",
    "gb_model = GradientBoostingRegressor(random_state=42)\n",
    "gb_param_grid = {\n",
    "    'n_estimators': [100, 200],\n",
    "    'learning_rate': [0.01, 0.1, 0.05],\n",
    "    'max_depth': [3, 5, 10]\n",
    "}\n",
    "gb_grid_search = GridSearchCV(estimator=gb_model, param_grid=gb_param_grid, cv=3, n_jobs=-1, verbose=2, scoring='r2')\n",
    "gb_grid_search.fit(X_train, y_train)\n",
    "best_gb_model = gb_grid_search.best_estimator_\n",
    "y_pred_gb = best_gb_model.predict(X_test)"
   ]
  },
  {
   "cell_type": "code",
   "execution_count": 13,
   "id": "1196cc97-0240-4721-989c-c199c21b758e",
   "metadata": {},
   "outputs": [
    {
     "name": "stdout",
     "output_type": "stream",
     "text": [
      "Fitting 3 folds for each of 36 candidates, totalling 108 fits\n"
     ]
    }
   ],
   "source": [
    "# 4. Decision Tree Regressor - GridSearchCV and Model Fit/Predict\n",
    "dt_model = DecisionTreeRegressor(random_state=42)\n",
    "dt_param_grid = {\n",
    "    'max_depth': [None, 10, 20, 30],\n",
    "    'min_samples_split': [2, 10, 20],\n",
    "    'min_samples_leaf': [1, 5, 10]\n",
    "}\n",
    "dt_grid_search = GridSearchCV(estimator=dt_model, param_grid=dt_param_grid, cv=3, n_jobs=-1, verbose=2, scoring='r2')\n",
    "dt_grid_search.fit(X_train, y_train)\n",
    "best_dt_model = dt_grid_search.best_estimator_\n",
    "y_pred_dt = best_dt_model.predict(X_test)"
   ]
  },
  {
   "cell_type": "code",
   "execution_count": 15,
   "id": "806f532a-6f38-4e48-b118-470642912323",
   "metadata": {},
   "outputs": [
    {
     "name": "stdout",
     "output_type": "stream",
     "text": [
      "Evaluating all models:\n",
      "Linear Regression Evaluation:\n",
      "MAE: 155357.31\n",
      "MSE: 65838553759.89\n",
      "R²: 0.69\n",
      "\n",
      "Random Forest Regressor Evaluation:\n",
      "MAE: 64368.83\n",
      "MSE: 10062337627.45\n",
      "R²: 0.95\n",
      "\n",
      "Gradient Boosting Regressor Evaluation:\n",
      "MAE: 62669.14\n",
      "MSE: 9779793780.73\n",
      "R²: 0.95\n",
      "\n",
      "Decision Tree Regressor Evaluation:\n",
      "MAE: 86504.35\n",
      "MSE: 20356868303.68\n",
      "R²: 0.90\n",
      "\n"
     ]
    }
   ],
   "source": [
    "# Evaluate Models\n",
    "def evaluate_model(model_name, y_test, y_pred):\n",
    "    print(f\"{model_name} Evaluation:\")\n",
    "    print(f\"MAE: {mean_absolute_error(y_test, y_pred):.2f}\")\n",
    "    print(f\"MSE: {mean_squared_error(y_test, y_pred):.2f}\")\n",
    "    print(f\"R²: {r2_score(y_test, y_pred):.2f}\")\n",
    "    print()\n",
    "\n",
    "print(\"Evaluating all models:\")\n",
    "evaluate_model(\"Linear Regression\", y_test, y_pred_lin)\n",
    "evaluate_model(\"Random Forest Regressor\", y_test, y_pred_rf)\n",
    "evaluate_model(\"Gradient Boosting Regressor\", y_test, y_pred_gb)\n",
    "evaluate_model(\"Decision Tree Regressor\", y_test, y_pred_dt)"
   ]
  },
  {
   "cell_type": "code",
   "execution_count": 17,
   "id": "dc65df3a-cc8f-4cb6-9da9-42a89f792d53",
   "metadata": {},
   "outputs": [
    {
     "name": "stdout",
     "output_type": "stream",
     "text": [
      "Model Performance Metrics:\n",
      "Linear Regression - R²: 0.69, MSE: 65838553759.89, MAE: 155357.31\n",
      "Random Forest Regressor - R²: 0.95, MSE: 10062337627.45, MAE: 64368.83\n",
      "Gradient Boosting Regressor - R²: 0.95, MSE: 9779793780.73, MAE: 62669.14\n",
      "Decision Tree Regressor - R²: 0.90, MSE: 20356868303.68, MAE: 86504.35\n",
      "\n",
      "The best model is Gradient Boosting Regressor with R²: 0.95\n",
      "Best Model - MSE: 9779793780.73, MAE: 62669.14\n"
     ]
    }
   ],
   "source": [
    "\n",
    "# Calculate R² scores for all models\n",
    "r2_lin = r2_score(y_test, y_pred_lin)\n",
    "r2_rf = r2_score(y_test, y_pred_rf)\n",
    "r2_gb = r2_score(y_test, y_pred_gb)\n",
    "r2_dt = r2_score(y_test, y_pred_dt)\n",
    "\n",
    "# Calculate MSE and MAE for all models\n",
    "mse_lin = mean_squared_error(y_test, y_pred_lin)\n",
    "mae_lin = mean_absolute_error(y_test, y_pred_lin)\n",
    "\n",
    "mse_rf = mean_squared_error(y_test, y_pred_rf)\n",
    "mae_rf = mean_absolute_error(y_test, y_pred_rf)\n",
    "\n",
    "mse_gb = mean_squared_error(y_test, y_pred_gb)\n",
    "mae_gb = mean_absolute_error(y_test, y_pred_gb)\n",
    "\n",
    "mse_dt = mean_squared_error(y_test, y_pred_dt)\n",
    "mae_dt = mean_absolute_error(y_test, y_pred_dt)\n",
    "\n",
    "# Choose the best model based on R² score\n",
    "best_model = None\n",
    "best_model_name = None\n",
    "best_r2 = max(r2_lin, r2_rf, r2_gb, r2_dt)\n",
    "\n",
    "if best_r2 == r2_lin:\n",
    "    best_model = lin_model\n",
    "    best_model_name = \"Linear Regression\"\n",
    "    best_mse = mse_lin\n",
    "    best_mae = mae_lin\n",
    "elif best_r2 == r2_rf:\n",
    "    best_model = best_rf_model\n",
    "    best_model_name = \"Random Forest Regressor\"\n",
    "    best_mse = mse_rf\n",
    "    best_mae = mae_rf\n",
    "elif best_r2 == r2_gb:\n",
    "    best_model = best_gb_model\n",
    "    best_model_name = \"Gradient Boosting Regressor\"\n",
    "    best_mse = mse_gb\n",
    "    best_mae = mae_gb\n",
    "else:\n",
    "    best_model = best_dt_model\n",
    "    best_model_name = \"Decision Tree Regressor\"\n",
    "    best_mse = mse_dt\n",
    "    best_mae = mae_dt\n",
    "\n",
    "# Display all models' results\n",
    "print(\"Model Performance Metrics:\")\n",
    "print(f\"Linear Regression - R²: {r2_lin:.2f}, MSE: {mse_lin:.2f}, MAE: {mae_lin:.2f}\")\n",
    "print(f\"Random Forest Regressor - R²: {r2_rf:.2f}, MSE: {mse_rf:.2f}, MAE: {mae_rf:.2f}\")\n",
    "print(f\"Gradient Boosting Regressor - R²: {r2_gb:.2f}, MSE: {mse_gb:.2f}, MAE: {mae_gb:.2f}\")\n",
    "print(f\"Decision Tree Regressor - R²: {r2_dt:.2f}, MSE: {mse_dt:.2f}, MAE: {mae_dt:.2f}\")\n",
    "\n",
    "# Display best model's results\n",
    "print(f\"\\nThe best model is {best_model_name} with R²: {best_r2:.2f}\")\n",
    "print(f\"Best Model - MSE: {best_mse:.2f}, MAE: {best_mae:.2f}\")"
   ]
  },
  {
   "cell_type": "code",
   "execution_count": 19,
   "id": "db246ba3-6d5b-457f-9a51-1f269c75cebf",
   "metadata": {},
   "outputs": [
    {
     "name": "stdout",
     "output_type": "stream",
     "text": [
      "Fitting 3 folds for each of 729 candidates, totalling 2187 fits\n",
      "Best Hyperparameters: {'learning_rate': 0.1, 'max_depth': 5, 'max_features': 'sqrt', 'min_samples_leaf': 2, 'min_samples_split': 2, 'n_estimators': 300}\n",
      "R2 Score: 0.9542943911880939\n",
      "RMSE: 98686.78367551943\n",
      "Model saved to D:/Project/Car_Dheko/op/gradient_boosting_model.pkl using pickle.\n"
     ]
    }
   ],
   "source": [
    "from sklearn.impute import SimpleImputer\n",
    "from sklearn.preprocessing import StandardScaler\n",
    "\n",
    "# Feature Engineering: Calculate km_per_year and drop 'km'\n",
    "df['km_per_year'] = df['km'] / df['Car_age'].replace(0, np.nan)\n",
    "df.drop(columns=['km'], inplace=True)\n",
    "\n",
    "# Additional Feature Engineering\n",
    "df['power_to_weight'] = df['Max Power'] / df['Kerb Weight']  # Power-to-Weight Ratio\n",
    "df['engine_size_per_cylinder'] = df['Engine Displacement'] / df['No of Cylinder'].replace(0, np.nan)  # Size per Cylinder\n",
    "df['torque_to_power'] = df['Torque'] / df['Max Power'].replace(0, np.nan)  # Torque-to-Power Ratio\n",
    "df['volume'] = df['Length'] * df['Width'] * df['Height']  # Volume of the Car\n",
    "\n",
    "# Replace inf with NaN and fill NaNs with mean\n",
    "df.replace([np.inf, -np.inf], np.nan, inplace=True)\n",
    "\n",
    "\n",
    "required_columns = ['ft', 'bt', 'km', 'transmission', 'model', 'Insurance Validity', 'Seats', \n",
    "                    'Engine Displacement', 'Mileage', 'Max Power', 'Torque', 'No of Cylinder', 'Length', 'Width', \n",
    "                    'Height', 'Kerb Weight','Drive Type', 'Cargo Volume', 'City', 'Car_age', 'price', 'km_per_year', \n",
    "                   'power_to_weight', 'engine_size_per_cylinder', 'torque_to_power', 'volume']\n",
    "\n",
    "\n",
    "\n",
    "# Impute missing values with the mean\n",
    "imputer = SimpleImputer(strategy='mean')\n",
    "X = imputer.fit_transform(df.drop(['price'], axis=1))  # Features\n",
    "y = df['price']  # Target variable\n",
    "\n",
    "# Step 3: Scaling\n",
    "scaler = StandardScaler()\n",
    "X = scaler.fit_transform(X)\n",
    "\n",
    "# Step 4: Train-Test Split\n",
    "X_train, X_test, y_train, y_test = train_test_split(X, y, test_size=0.2, random_state=42)\n",
    "\n",
    "# Step 5: Model Training with Hyperparameter Tuning\n",
    "gbr = GradientBoostingRegressor(random_state=42)\n",
    "\n",
    "# Define the hyperparameter grid\n",
    "param_grid = {\n",
    "    'n_estimators': [100, 200, 300],\n",
    "    'learning_rate': [0.01, 0.1, 0.2],\n",
    "    'max_depth': [3, 5, 7],\n",
    "    'min_samples_split': [2, 5, 10],\n",
    "    'min_samples_leaf': [1, 2, 4],\n",
    "    'max_features': ['sqrt', 'log2', None]\n",
    "}\n",
    "\n",
    "# Perform GridSearchCV to find the best hyperparameters\n",
    "grid_search = GridSearchCV(estimator=gbr, param_grid=param_grid, cv=3, n_jobs=-1, scoring='r2', verbose=2)\n",
    "grid_search.fit(X_train, y_train)\n",
    "\n",
    "# Get the best model from GridSearchCV\n",
    "best_model = grid_search.best_estimator_\n",
    "\n",
    "# Step 6: Model Evaluation\n",
    "y_pred = best_model.predict(X_test)\n",
    "\n",
    "# Evaluate the model\n",
    "r2 = r2_score(y_test, y_pred)\n",
    "mse = mean_squared_error(y_test, y_pred)\n",
    "rmse = np.sqrt(mse)\n",
    "\n",
    "print(f\"Best Hyperparameters: {grid_search.best_params_}\")\n",
    "print(f\"R2 Score: {r2}\")\n",
    "print(f\"RMSE: {rmse}\")\n",
    "\n",
    "# Save the model\n",
    "output_path = \"D:/Project/Car_Dheko/op/gradient_boosting_model.pkl\"\n",
    "\n",
    "# Save the model\n",
    "with open(output_path, 'wb') as f:\n",
    "    pickle.dump(best_model, f)\n",
    "\n",
    "print(f\"Model saved to {output_path} using pickle.\")\n",
    "# To load the model later:\n",
    "# with open(output_path, 'rb') as f:\n",
    "#     loaded_model = pickle.load(f)\n"
   ]
  },
  {
   "cell_type": "code",
   "execution_count": 21,
   "id": "7b966491-345f-4aca-9a64-1800b91719c7",
   "metadata": {},
   "outputs": [
    {
     "data": {
      "image/png": "[encoded data removed]",
      "text/plain": [
       "<Figure size 1000x400 with 1 Axes>"
      ]
     },
     "metadata": {},
     "output_type": "display_data"
    }
   ],
   "source": [
    "# Plotting Actual vs Predicted\n",
    "plt.figure(figsize=(10, 4))\n",
    "sns.scatterplot(x=y_test, y=y_pred)\n",
    "plt.xlabel('Actual Prices')\n",
    "plt.ylabel('Predicted Prices')\n",
    "plt.title('Gradient Boosting Model: Actual Prices vs Predicted Prices')\n",
    "plt.plot([y.min(), y.max()], [y.min(), y.max()], color='red')  # Diagonal line for reference\n",
    "plt.show()"
   ]
  }
 ],
 "metadata": {
  "kernelspec": {
   "display_name": "Python 3 (ipykernel)",
   "language": "python",
   "name": "python3"
  },
  "language_info": {
   "codemirror_mode": {
    "name": "ipython",
    "version": 3
   },
   "file_extension": ".py",
   "mimetype": "text/x-python",
   "name": "python",
   "nbconvert_exporter": "python",
   "pygments_lexer": "ipython3",
   "version": "3.11.7"
  }
 },
 "nbformat": 4,
 "nbformat_minor": 5
}
